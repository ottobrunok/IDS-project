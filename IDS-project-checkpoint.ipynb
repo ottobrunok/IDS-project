{
 "cells": [
  {
   "cell_type": "markdown",
   "id": "d7dc8df3",
   "metadata": {},
   "source": [
    "# Group B15 - Kaggle Student Alcohol consumption"
   ]
  },
  {
   "cell_type": "markdown",
   "id": "7ee6bea1",
   "metadata": {},
   "source": [
    "## Predicting student's final grade "
   ]
  },
  {
   "cell_type": "markdown",
   "id": "7cc6f3ac",
   "metadata": {},
   "source": [
    " Otto Bruno Koobakene, Liivika Koobakene"
   ]
  },
  {
   "cell_type": "markdown",
   "id": "c3786dd6",
   "metadata": {},
   "source": [
    "\n",
    "## Imports"
   ]
  },
  {
   "cell_type": "code",
   "execution_count": 1,
   "id": "ff5bed3a",
   "metadata": {},
   "outputs": [],
   "source": [
    "import pandas as pd\n",
    "import numpy as np\n",
    "from sklearn.model_selection import train_test_split\n",
    "from sklearn.linear_model import LinearRegression, Lasso, Ridge\n",
    "from sklearn.neighbors import KNeighborsRegressor\n",
    "from sklearn.metrics import mean_absolute_error\n",
    "\n",
    "import matplotlib.pyplot as plt\n",
    "import matplotlib"
   ]
  },
  {
   "cell_type": "markdown",
   "id": "b8397dae",
   "metadata": {},
   "source": [
    "## Processing data"
   ]
  },
  {
   "cell_type": "markdown",
   "id": "e4d5b826",
   "metadata": {},
   "source": [
    "Merging Portuguese and Math student's data"
   ]
  },
  {
   "cell_type": "code",
   "execution_count": 2,
   "id": "e3e5dd5a",
   "metadata": {},
   "outputs": [],
   "source": [
    "df = pd.concat(\n",
    "    map(pd.read_csv, ['student-mat.csv', 'student-por.csv']), ignore_index=True)\n"
   ]
  },
  {
   "cell_type": "markdown",
   "id": "17ba7f84",
   "metadata": {},
   "source": [
    "Adding new column for average alcohol consumption per week"
   ]
  },
  {
   "cell_type": "code",
   "execution_count": 3,
   "id": "336bfe9b",
   "metadata": {},
   "outputs": [],
   "source": [
    "df['weeklyAlcohol'] = (df.Dalc + df.Walc)/2"
   ]
  },
  {
   "cell_type": "markdown",
   "id": "7b2b17d4",
   "metadata": {},
   "source": [
    "Deleting unnecessary columns"
   ]
  },
  {
   "cell_type": "code",
   "execution_count": 4,
   "id": "2d54a668",
   "metadata": {},
   "outputs": [],
   "source": [
    "df = df.drop(['school','sex','age','address','famsize','Pstatus','Medu','Fedu','Mjob','Fjob','reason','guardian','traveltime','studytime','failures','schoolsup','activities','nursery','higher','Dalc','Walc','internet','romantic','freetime','goout','health','G1','G2'\n",
    "], axis=1)\n",
    "df = df.rename(columns={'G3':'finalgrade'})"
   ]
  },
  {
   "cell_type": "markdown",
   "id": "1e84179c",
   "metadata": {},
   "source": [
    "Generating columns for \"yes or no\" questions"
   ]
  },
  {
   "cell_type": "code",
   "execution_count": 5,
   "id": "46be003c",
   "metadata": {},
   "outputs": [],
   "source": [
    "df = pd.concat([df.drop('famsup', axis=1), pd.get_dummies(df['famsup'])], axis=1)\n",
    "df = df.rename(columns = {'no': 'no_famsup', 'yes': 'famsup'})\n",
    "df = pd.concat([df.drop('paid', axis=1), pd.get_dummies(df['paid'])], axis=1)\n",
    "df = df.rename(columns = {'no': 'no_paid', 'yes': 'paid'})\n",
    "df = df.drop(['no_famsup', 'no_paid'], axis = 1)"
   ]
  },
  {
   "cell_type": "markdown",
   "id": "cdb5c42f",
   "metadata": {},
   "source": [
    "Generating new merged csv file"
   ]
  },
  {
   "cell_type": "code",
   "execution_count": 6,
   "id": "b922d3bd",
   "metadata": {
    "scrolled": true
   },
   "outputs": [
    {
     "data": {
      "text/html": [
       "<div>\n",
       "<style scoped>\n",
       "    .dataframe tbody tr th:only-of-type {\n",
       "        vertical-align: middle;\n",
       "    }\n",
       "\n",
       "    .dataframe tbody tr th {\n",
       "        vertical-align: top;\n",
       "    }\n",
       "\n",
       "    .dataframe thead th {\n",
       "        text-align: right;\n",
       "    }\n",
       "</style>\n",
       "<table border=\"1\" class=\"dataframe\">\n",
       "  <thead>\n",
       "    <tr style=\"text-align: right;\">\n",
       "      <th></th>\n",
       "      <th>famrel</th>\n",
       "      <th>absences</th>\n",
       "      <th>finalgrade</th>\n",
       "      <th>weeklyAlcohol</th>\n",
       "      <th>famsup</th>\n",
       "      <th>paid</th>\n",
       "    </tr>\n",
       "  </thead>\n",
       "  <tbody>\n",
       "    <tr>\n",
       "      <th>0</th>\n",
       "      <td>4</td>\n",
       "      <td>6</td>\n",
       "      <td>6</td>\n",
       "      <td>1.0</td>\n",
       "      <td>0</td>\n",
       "      <td>0</td>\n",
       "    </tr>\n",
       "    <tr>\n",
       "      <th>1</th>\n",
       "      <td>5</td>\n",
       "      <td>4</td>\n",
       "      <td>6</td>\n",
       "      <td>1.0</td>\n",
       "      <td>1</td>\n",
       "      <td>0</td>\n",
       "    </tr>\n",
       "    <tr>\n",
       "      <th>2</th>\n",
       "      <td>4</td>\n",
       "      <td>10</td>\n",
       "      <td>10</td>\n",
       "      <td>2.5</td>\n",
       "      <td>0</td>\n",
       "      <td>1</td>\n",
       "    </tr>\n",
       "    <tr>\n",
       "      <th>3</th>\n",
       "      <td>3</td>\n",
       "      <td>2</td>\n",
       "      <td>15</td>\n",
       "      <td>1.0</td>\n",
       "      <td>1</td>\n",
       "      <td>1</td>\n",
       "    </tr>\n",
       "    <tr>\n",
       "      <th>4</th>\n",
       "      <td>4</td>\n",
       "      <td>4</td>\n",
       "      <td>10</td>\n",
       "      <td>1.5</td>\n",
       "      <td>1</td>\n",
       "      <td>1</td>\n",
       "    </tr>\n",
       "  </tbody>\n",
       "</table>\n",
       "</div>"
      ],
      "text/plain": [
       "   famrel  absences  finalgrade  weeklyAlcohol  famsup  paid\n",
       "0       4         6           6            1.0       0     0\n",
       "1       5         4           6            1.0       1     0\n",
       "2       4        10          10            2.5       0     1\n",
       "3       3         2          15            1.0       1     1\n",
       "4       4         4          10            1.5       1     1"
      ]
     },
     "execution_count": 6,
     "metadata": {},
     "output_type": "execute_result"
    }
   ],
   "source": [
    "df.to_csv('merged.csv')\n",
    "df.head()"
   ]
  },
  {
   "cell_type": "markdown",
   "id": "42e78dce",
   "metadata": {},
   "source": [
    "## Learning models"
   ]
  },
  {
   "cell_type": "markdown",
   "id": "43d53cea",
   "metadata": {},
   "source": [
    "Training and test sets"
   ]
  },
  {
   "cell_type": "code",
   "execution_count": 7,
   "id": "cac4eab3",
   "metadata": {},
   "outputs": [],
   "source": [
    "# X is the input set and y is the output set\n",
    "#X,y = df.drop(columns=[\"finalgrade\",'weeklyAlcohol','famrel'], axis=1), df.finalgrade\n",
    "#testing all given factors combined\n",
    "X,y = df.drop(columns=['finalgrade'], axis=1), df.finalgrade\n",
    "# Creating training and test sets\n",
    "# Since we want the comparison between different mean absolute values to be fair, we use random_state = 0\n",
    "X_train, X_test, y_train, y_test = train_test_split(X.values, y.values, test_size=0.3, random_state=0)"
   ]
  },
  {
   "cell_type": "markdown",
   "id": "f7781c21",
   "metadata": {},
   "source": [
    "##### Lasso"
   ]
  },
  {
   "cell_type": "code",
   "execution_count": 8,
   "id": "ab5a46f2",
   "metadata": {
    "scrolled": true
   },
   "outputs": [
    {
     "name": "stdout",
     "output_type": "stream",
     "text": [
      "Mean absolute error for Lasso regression:  2.43529\n"
     ]
    }
   ],
   "source": [
    "lasso = Lasso(alpha = 0.1).fit(X_train, y_train)\n",
    "lasso_pred = lasso.predict(X_test)\n",
    "#print(lasso_pred)\n",
    "lasso_mae = mean_absolute_error(y_test, lasso_pred)\n",
    "print(\"Mean absolute error for Lasso regression: \" , round(lasso_mae,5))"
   ]
  },
  {
   "cell_type": "markdown",
   "id": "f6a8c139",
   "metadata": {},
   "source": [
    "##### Linear Regression"
   ]
  },
  {
   "cell_type": "code",
   "execution_count": 9,
   "id": "4d21e874",
   "metadata": {},
   "outputs": [
    {
     "name": "stdout",
     "output_type": "stream",
     "text": [
      "Mean absolute error for Linear regression: 2.4415\n"
     ]
    }
   ],
   "source": [
    "linear = LinearRegression().fit(X_train, y_train)\n",
    "pred_linear = linear.predict(X_test)\n",
    "#print(pred_linear)\n",
    "linear_mae = mean_absolute_error(y_test, pred_linear)\n",
    "print (\"Mean absolute error for Linear regression:\", round(linear_mae,4))"
   ]
  },
  {
   "cell_type": "markdown",
   "id": "3a6f5c8c",
   "metadata": {},
   "source": [
    "##### K nearest neighbor"
   ]
  },
  {
   "cell_type": "code",
   "execution_count": 10,
   "id": "6299f0dd",
   "metadata": {},
   "outputs": [
    {
     "name": "stdout",
     "output_type": "stream",
     "text": [
      "Mean absolute error for K nearest neighbors: 2.7573\n"
     ]
    }
   ],
   "source": [
    "KNeighbors= KNeighborsRegressor().fit(X_train, y_train)\n",
    "pred_kneighbors = KNeighbors.predict(X_test)\n",
    "#print(pred_kneighbors)\n",
    "kneighbors_mae = mean_absolute_error(y_test, pred_kneighbors)\n",
    "print (\"Mean absolute error for K nearest neighbors:\", round(kneighbors_mae,4))"
   ]
  },
  {
   "cell_type": "markdown",
   "id": "09600b9f",
   "metadata": {
    "scrolled": true
   },
   "source": [
    "##### Ridge"
   ]
  },
  {
   "cell_type": "code",
   "execution_count": 11,
   "id": "f6f6d16d",
   "metadata": {},
   "outputs": [
    {
     "name": "stdout",
     "output_type": "stream",
     "text": [
      "Mean absolute error for Ridge:  2.44149\n"
     ]
    }
   ],
   "source": [
    "Ridge = Ridge().fit(X_train, y_train)\n",
    "Ridge_pred = Ridge.predict(X_test)\n",
    "#print(Ridge_pred)\n",
    "Ridge_mae = mean_absolute_error(y_test, Ridge_pred)\n",
    "print(\"Mean absolute error for Ridge: \", round(Ridge_mae, 5))"
   ]
  },
  {
   "cell_type": "markdown",
   "id": "dbdbbc1d",
   "metadata": {},
   "source": [
    "### Comparison"
   ]
  },
  {
   "cell_type": "markdown",
   "id": "d41bd969",
   "metadata": {},
   "source": [
    "##### Visualizing the mean absolute errors"
   ]
  },
  {
   "cell_type": "code",
   "execution_count": 12,
   "id": "010b9608",
   "metadata": {},
   "outputs": [
    {
     "data": {
      "image/png": "[encoded data removed]",
      "text/plain": [
       "<Figure size 864x576 with 1 Axes>"
      ]
     },
     "metadata": {},
     "output_type": "display_data"
    }
   ],
   "source": [
    "df_lasso = round(lasso_mae, 5)\n",
    "df_kneighbor = round(kneighbors_mae, 5)\n",
    "df_linear = round(linear_mae, 5)\n",
    "df_ridge = round(Ridge_mae, 5)\n",
    "names = ['Lasso', 'K nearest neighbor', 'Linear Regression', 'Ridge']\n",
    "values = [df_lasso, df_kneighbor, df_linear, df_ridge]\n",
    "\n",
    "plt.rcParams['figure.figsize'] = (12,8)\n",
    "matplotlib.style.use('ggplot')\n",
    "df_plt = pd.DataFrame({'Name':names, 'Mean absolute error':values})\n",
    "df_plt.sort_values('Mean absolute error', ascending = True).plot.bar(x = 'Name', y = 'Mean absolute error', rot = 1)\n",
    "\n",
    "values.sort()\n",
    "for index, data in enumerate(values):\n",
    "    plt.text(x = index-0.25, y = data+0.03 , s = f\"{data}\", fontdict = dict(fontsize = 20))"
   ]
  },
  {
   "cell_type": "code",
   "execution_count": null,
   "id": "74c8a344",
   "metadata": {},
   "outputs": [],
   "source": []
  },
  {
   "cell_type": "code",
   "execution_count": null,
   "id": "0f9d74b9",
   "metadata": {},
   "outputs": [],
   "source": []
  },
  {
   "cell_type": "code",
   "execution_count": null,
   "id": "8170de4c",
   "metadata": {},
   "outputs": [],
   "source": []
  },
  {
   "cell_type": "code",
   "execution_count": null,
   "id": "3ea2ad7c",
   "metadata": {},
   "outputs": [],
   "source": []
  },
  {
   "cell_type": "code",
   "execution_count": null,
   "id": "caaf56eb",
   "metadata": {},
   "outputs": [],
   "source": []
  },
  {
   "cell_type": "code",
   "execution_count": null,
   "id": "e2864b65",
   "metadata": {},
   "outputs": [],
   "source": []
  },
  {
   "cell_type": "code",
   "execution_count": null,
   "id": "90d54f1e",
   "metadata": {},
   "outputs": [],
   "source": []
  },
  {
   "cell_type": "code",
   "execution_count": null,
   "id": "8bdd0395",
   "metadata": {},
   "outputs": [],
   "source": []
  }
 ],
 "metadata": {
  "kernelspec": {
   "display_name": "Python 3",
   "language": "python",
   "name": "python3"
  },
  "language_info": {
   "codemirror_mode": {
    "name": "ipython",
    "version": 3
   },
   "file_extension": ".py",
   "mimetype": "text/x-python",
   "name": "python",
   "nbconvert_exporter": "python",
   "pygments_lexer": "ipython3",
   "version": "3.8.8"
  }
 },
 "nbformat": 4,
 "nbformat_minor": 5
}
