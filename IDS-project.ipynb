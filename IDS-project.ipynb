{
 "cells": [
  {
   "cell_type": "markdown",
   "id": "d7dc8df3",
   "metadata": {},
   "source": [
    "# Group B15 - Kaggle Student Alcohol consumption"
   ]
  },
  {
   "cell_type": "markdown",
   "id": "7ee6bea1",
   "metadata": {},
   "source": [
    "## Predicting student's final grade "
   ]
  },
  {
   "cell_type": "markdown",
   "id": "7cc6f3ac",
   "metadata": {},
   "source": [
    " Otto Bruno Koobakene, Liivika Koobakene"
   ]
  },
  {
   "cell_type": "markdown",
   "id": "c3786dd6",
   "metadata": {},
   "source": [
    "\n",
    "## Imports"
   ]
  },
  {
   "cell_type": "code",
   "execution_count": 1,
   "id": "ff5bed3a",
   "metadata": {},
   "outputs": [],
   "source": [
    "import pandas as pd\n",
    "import numpy as np\n",
    "import seaborn as sb\n",
    "\n",
    "from sklearn.model_selection import train_test_split\n",
    "from sklearn.linear_model import LinearRegression, Lasso, Ridge\n",
    "from sklearn.neighbors import KNeighborsRegressor\n",
    "from sklearn.metrics import mean_absolute_error\n",
    "\n",
    "import matplotlib.pyplot as plt\n",
    "import matplotlib as mpl"
   ]
  },
  {
   "cell_type": "markdown",
   "id": "b8397dae",
   "metadata": {},
   "source": [
    "## Processing data"
   ]
  },
  {
   "cell_type": "markdown",
   "id": "e4d5b826",
   "metadata": {},
   "source": [
    "Merging Portuguese and Math student's data"
   ]
  },
  {
   "cell_type": "code",
   "execution_count": 2,
   "id": "e3e5dd5a",
   "metadata": {},
   "outputs": [],
   "source": [
    "df = pd.concat(\n",
    "    map(pd.read_csv, ['student-mat.csv', 'student-por.csv']), ignore_index=True)\n"
   ]
  },
  {
   "cell_type": "markdown",
   "id": "17ba7f84",
   "metadata": {},
   "source": [
    "Adding new column for average alcohol consumption per week"
   ]
  },
  {
   "cell_type": "code",
   "execution_count": 3,
   "id": "336bfe9b",
   "metadata": {},
   "outputs": [],
   "source": [
    "df['weeklyAlcohol'] = (df.Dalc + df.Walc)/2"
   ]
  },
  {
   "cell_type": "markdown",
   "id": "7b2b17d4",
   "metadata": {},
   "source": [
    "Deleting unnecessary columns"
   ]
  },
  {
   "cell_type": "code",
   "execution_count": 4,
   "id": "2d54a668",
   "metadata": {},
   "outputs": [],
   "source": [
    "df = df.drop(['school','sex','age','address','famsize','Pstatus','Medu','Fedu','Mjob','Fjob','reason','guardian','traveltime','studytime','failures','schoolsup','activities','nursery','higher','Dalc','Walc','internet','romantic','freetime','goout','health','G1','G2'\n",
    "], axis=1)\n",
    "df = df.rename(columns={'G3':'finalgrade'})"
   ]
  },
  {
   "cell_type": "markdown",
   "id": "1e84179c",
   "metadata": {},
   "source": [
    "Generating columns for \"yes or no\" questions"
   ]
  },
  {
   "cell_type": "code",
   "execution_count": 5,
   "id": "46be003c",
   "metadata": {},
   "outputs": [],
   "source": [
    "df = pd.concat([df.drop('famsup', axis=1), pd.get_dummies(df['famsup'])], axis=1)\n",
    "df = df.rename(columns = {'no': 'no_famsup', 'yes': 'famsup'})\n",
    "df = pd.concat([df.drop('paid', axis=1), pd.get_dummies(df['paid'])], axis=1)\n",
    "df = df.rename(columns = {'no': 'no_paid', 'yes': 'paid'})\n",
    "df = df.drop(['no_famsup', 'no_paid'], axis = 1)"
   ]
  },
  {
   "cell_type": "markdown",
   "id": "cdb5c42f",
   "metadata": {},
   "source": [
    "Generating new merged csv file"
   ]
  },
  {
   "cell_type": "code",
   "execution_count": 6,
   "id": "b922d3bd",
   "metadata": {
    "scrolled": true
   },
   "outputs": [
    {
     "data": {
      "text/html": [
       "<div>\n",
       "<style scoped>\n",
       "    .dataframe tbody tr th:only-of-type {\n",
       "        vertical-align: middle;\n",
       "    }\n",
       "\n",
       "    .dataframe tbody tr th {\n",
       "        vertical-align: top;\n",
       "    }\n",
       "\n",
       "    .dataframe thead th {\n",
       "        text-align: right;\n",
       "    }\n",
       "</style>\n",
       "<table border=\"1\" class=\"dataframe\">\n",
       "  <thead>\n",
       "    <tr style=\"text-align: right;\">\n",
       "      <th></th>\n",
       "      <th>famrel</th>\n",
       "      <th>absences</th>\n",
       "      <th>finalgrade</th>\n",
       "      <th>weeklyAlcohol</th>\n",
       "      <th>famsup</th>\n",
       "      <th>paid</th>\n",
       "    </tr>\n",
       "  </thead>\n",
       "  <tbody>\n",
       "    <tr>\n",
       "      <th>0</th>\n",
       "      <td>4</td>\n",
       "      <td>6</td>\n",
       "      <td>6</td>\n",
       "      <td>1.0</td>\n",
       "      <td>0</td>\n",
       "      <td>0</td>\n",
       "    </tr>\n",
       "    <tr>\n",
       "      <th>1</th>\n",
       "      <td>5</td>\n",
       "      <td>4</td>\n",
       "      <td>6</td>\n",
       "      <td>1.0</td>\n",
       "      <td>1</td>\n",
       "      <td>0</td>\n",
       "    </tr>\n",
       "    <tr>\n",
       "      <th>2</th>\n",
       "      <td>4</td>\n",
       "      <td>10</td>\n",
       "      <td>10</td>\n",
       "      <td>2.5</td>\n",
       "      <td>0</td>\n",
       "      <td>1</td>\n",
       "    </tr>\n",
       "    <tr>\n",
       "      <th>3</th>\n",
       "      <td>3</td>\n",
       "      <td>2</td>\n",
       "      <td>15</td>\n",
       "      <td>1.0</td>\n",
       "      <td>1</td>\n",
       "      <td>1</td>\n",
       "    </tr>\n",
       "    <tr>\n",
       "      <th>4</th>\n",
       "      <td>4</td>\n",
       "      <td>4</td>\n",
       "      <td>10</td>\n",
       "      <td>1.5</td>\n",
       "      <td>1</td>\n",
       "      <td>1</td>\n",
       "    </tr>\n",
       "  </tbody>\n",
       "</table>\n",
       "</div>"
      ],
      "text/plain": [
       "   famrel  absences  finalgrade  weeklyAlcohol  famsup  paid\n",
       "0       4         6           6            1.0       0     0\n",
       "1       5         4           6            1.0       1     0\n",
       "2       4        10          10            2.5       0     1\n",
       "3       3         2          15            1.0       1     1\n",
       "4       4         4          10            1.5       1     1"
      ]
     },
     "execution_count": 6,
     "metadata": {},
     "output_type": "execute_result"
    }
   ],
   "source": [
    "df.to_csv('merged.csv')\n",
    "df.head()"
   ]
  },
  {
   "cell_type": "markdown",
   "id": "42e78dce",
   "metadata": {},
   "source": [
    "## Learning models"
   ]
  },
  {
   "cell_type": "markdown",
   "id": "43d53cea",
   "metadata": {},
   "source": [
    "Training and test sets"
   ]
  },
  {
   "cell_type": "code",
   "execution_count": 7,
   "id": "cac4eab3",
   "metadata": {},
   "outputs": [],
   "source": [
    "# X is the input set and y is the output set\n",
    "# testing all given factors combined\n",
    "X,y = df.drop(columns=['finalgrade'], axis=1), df.finalgrade\n",
    "# Creating training and test sets\n",
    "# Since we want the comparison between different mean absolute values to be fair, we use random_state = 0\n",
    "X_train, X_test, y_train, y_test = train_test_split(X.values, y.values, test_size=0.3, random_state=0)"
   ]
  },
  {
   "cell_type": "markdown",
   "id": "f7781c21",
   "metadata": {},
   "source": [
    "##### Lasso"
   ]
  },
  {
   "cell_type": "code",
   "execution_count": 8,
   "id": "ab5a46f2",
   "metadata": {
    "scrolled": true
   },
   "outputs": [
    {
     "name": "stdout",
     "output_type": "stream",
     "text": [
      "Mean absolute error for Lasso regression:  2.43529\n"
     ]
    }
   ],
   "source": [
    "lasso = Lasso(alpha = 0.1).fit(X_train, y_train)\n",
    "lasso_pred = lasso.predict(X_test)\n",
    "lasso_pred[lasso_pred > 20] = 20\n",
    "lasso_pred[lasso_pred < 0] = 0\n",
    "#print(lasso_pred)\n",
    "lasso_mae = mean_absolute_error(y_test, lasso_pred)\n",
    "print(\"Mean absolute error for Lasso regression: \" , round(lasso_mae,5))"
   ]
  },
  {
   "cell_type": "markdown",
   "id": "9f2e593b",
   "metadata": {},
   "source": [
    "##### Linear Regression"
   ]
  },
  {
   "cell_type": "code",
   "execution_count": 9,
   "id": "4d21e874",
   "metadata": {},
   "outputs": [
    {
     "name": "stdout",
     "output_type": "stream",
     "text": [
      "Mean absolute error for Linear regression: 2.4415\n"
     ]
    }
   ],
   "source": [
    "linear = LinearRegression().fit(X_train, y_train)\n",
    "pred_linear = linear.predict(X_test)\n",
    "pred_linear[pred_linear > 20] = 20\n",
    "pred_linear[pred_linear < 0] = 0\n",
    "#print(pred_linear)\n",
    "linear_mae = mean_absolute_error(y_test, pred_linear)\n",
    "print (\"Mean absolute error for Linear regression:\", round(linear_mae,4))"
   ]
  },
  {
   "cell_type": "markdown",
   "id": "2c1eb5db",
   "metadata": {},
   "source": [
    "##### K nearest neighbor"
   ]
  },
  {
   "cell_type": "code",
   "execution_count": 10,
   "id": "6299f0dd",
   "metadata": {},
   "outputs": [
    {
     "name": "stdout",
     "output_type": "stream",
     "text": [
      "Mean absolute error for K nearest neighbors: 2.7573\n"
     ]
    }
   ],
   "source": [
    "KNeighbors= KNeighborsRegressor().fit(X_train, y_train)\n",
    "pred_kneighbors = KNeighbors.predict(X_test)\n",
    "pred_kneighbors[pred_kneighbors > 20] = 20\n",
    "pred_kneighbors[pred_kneighbors < 0] = 0\n",
    "#print(pred_kneighbors)\n",
    "kneighbors_mae = mean_absolute_error(y_test, pred_kneighbors)\n",
    "print (\"Mean absolute error for K nearest neighbors:\", round(kneighbors_mae,4))"
   ]
  },
  {
   "cell_type": "markdown",
   "id": "e4630af4",
   "metadata": {
    "scrolled": true
   },
   "source": [
    "##### Ridge"
   ]
  },
  {
   "cell_type": "code",
   "execution_count": 11,
   "id": "f6f6d16d",
   "metadata": {},
   "outputs": [
    {
     "name": "stdout",
     "output_type": "stream",
     "text": [
      "Mean absolute error for Ridge:  2.44149\n"
     ]
    }
   ],
   "source": [
    "Ridge = Ridge().fit(X_train, y_train)\n",
    "Ridge_pred = Ridge.predict(X_test)\n",
    "Ridge_pred[Ridge_pred > 20] = 20\n",
    "Ridge_pred[Ridge_pred < 0] = 0\n",
    "#print(Ridge_pred)\n",
    "Ridge_mae = mean_absolute_error(y_test, Ridge_pred)\n",
    "print(\"Mean absolute error for Ridge: \", round(Ridge_mae, 5))"
   ]
  },
  {
   "cell_type": "markdown",
   "id": "f474b9cb",
   "metadata": {},
   "source": [
    "### Comparison"
   ]
  },
  {
   "cell_type": "markdown",
   "id": "bffdf6f9",
   "metadata": {},
   "source": [
    "##### Visualizing the mean absolute errors"
   ]
  },
  {
   "cell_type": "code",
   "execution_count": 12,
   "id": "010b9608",
   "metadata": {},
   "outputs": [
    {
     "data": {
      "image/png": "[encoded data removed]",
      "text/plain": [
       "<Figure size 864x576 with 1 Axes>"
      ]
     },
     "metadata": {},
     "output_type": "display_data"
    }
   ],
   "source": [
    "df_lasso = round(lasso_mae, 5)\n",
    "df_kneighbor = round(kneighbors_mae, 5)\n",
    "df_linear = round(linear_mae, 5)\n",
    "df_ridge = round(Ridge_mae, 5)\n",
    "names = ['Lasso', 'K nearest neighbor', 'Linear Regression', 'Ridge']\n",
    "values = [df_lasso, df_kneighbor, df_linear, df_ridge]\n",
    "\n",
    "plt.rcParams['figure.figsize'] = (12,8)\n",
    "mpl.style.use('ggplot')\n",
    "df_plt = pd.DataFrame({'Name':names, 'Mean absolute error':values})\n",
    "df_plt.sort_values('Mean absolute error', ascending = True).plot.bar(x = 'Name', y = 'Mean absolute error', rot = 1)\n",
    "\n",
    "values.sort()\n",
    "for index, data in enumerate(values):\n",
    "    plt.text(x = index-0.25, y = data+0.03 , s = f\"{data}\", fontdict = dict(fontsize = 20))"
   ]
  },
  {
   "cell_type": "markdown",
   "id": "d310d789",
   "metadata": {},
   "source": [
    "Absences and final grade"
   ]
  },
  {
   "cell_type": "code",
   "execution_count": 13,
   "id": "0f9d74b9",
   "metadata": {},
   "outputs": [
    {
     "data": {
      "image/png": "[encoded data removed]",
      "text/plain": [
       "<Figure size 576x1008 with 1 Axes>"
      ]
     },
     "metadata": {},
     "output_type": "display_data"
    }
   ],
   "source": [
    "new = df.copy()\n",
    "sorted_df = new.sort_values(by = \"absences\")\n",
    "plt.figure(figsize = (8,14))\n",
    "plot = sb.histplot(x = 'finalgrade', y = 'absences', data = sorted_df, color = '#8CECFC')\n",
    "plt.show()"
   ]
  },
  {
   "cell_type": "markdown",
   "id": "bcb3d10f",
   "metadata": {},
   "source": [
    "Weekly alcohol consumption and final grade"
   ]
  },
  {
   "cell_type": "code",
   "execution_count": 14,
   "id": "3ea2ad7c",
   "metadata": {},
   "outputs": [
    {
     "data": {
      "image/png": "[encoded data removed]",
      "text/plain": [
       "<Figure size 576x1008 with 1 Axes>"
      ]
     },
     "metadata": {},
     "output_type": "display_data"
    }
   ],
   "source": [
    "new = df.copy()\n",
    "sorted_df = new.sort_values(by = \"weeklyAlcohol\")\n",
    "plt.figure(figsize = (8,14))\n",
    "plot = sb.histplot(x = 'weeklyAlcohol', y = 'finalgrade', data = sorted_df, color = '#FD9E8F')\n",
    "plt.show()"
   ]
  },
  {
   "cell_type": "markdown",
   "id": "b46756a9",
   "metadata": {},
   "source": [
    "Family relationships and final grade"
   ]
  },
  {
   "cell_type": "code",
   "execution_count": 15,
   "id": "caaf56eb",
   "metadata": {},
   "outputs": [
    {
     "data": {
      "image/png": "[encoded data removed]",
      "text/plain": [
       "<Figure size 576x1008 with 1 Axes>"
      ]
     },
     "metadata": {},
     "output_type": "display_data"
    }
   ],
   "source": [
    "new = df.copy()\n",
    "sorted_df = new.sort_values(by = \"famrel\")\n",
    "plt.figure(figsize = (8,14))\n",
    "plot = sb.histplot(x = 'famrel', y = 'finalgrade', data = sorted_df, color = '#B2FEA6')\n",
    "plt.show()"
   ]
  },
  {
   "cell_type": "markdown",
   "id": "27836436",
   "metadata": {},
   "source": [
    "## Finding the most impactful factors for final grade"
   ]
  },
  {
   "cell_type": "markdown",
   "id": "584b9e05",
   "metadata": {},
   "source": [
    "###### Mean final grade for alcohol consumption rating"
   ]
  },
  {
   "cell_type": "code",
   "execution_count": 16,
   "id": "90d54f1e",
   "metadata": {},
   "outputs": [
    {
     "name": "stdout",
     "output_type": "stream",
     "text": [
      "Final grade by weekly alcohol consumption rating: \n",
      "{'r1': 11.77, 'r15': 11.77, 'r2': 11.18, 'r25': 11.4, 'r3': 9.88, 'r35': 10.47, 'r4': 10.5, 'r45': 10.0, 'r5': 10.38}\n",
      "Final grade by weekly alcohol consumption range (lower - 1-2.5/5; higher - 3-5/5): \n",
      "{'lower': 11.53, 'higher': 10.25}\n"
     ]
    }
   ],
   "source": [
    "df2 = df.copy()\n",
    "df2 = pd.concat([df.drop('weeklyAlcohol', axis=1), pd.get_dummies(df['weeklyAlcohol'])], axis=1)\n",
    "df2 = df2.drop(columns=['famrel','absences','famsup','paid'], axis=1)\n",
    "df2 = df2.rename(columns = {1.0: 'r1',\n",
    "                           1.5: 'r15',\n",
    "                           2.0: 'r2',\n",
    "                           2.5: 'r25',\n",
    "                           3.0: 'r3',\n",
    "                           3.5: 'r35',\n",
    "                           4.0: 'r4',\n",
    "                           4.5: 'r45',\n",
    "                           5.0: 'r5'\n",
    "                           })\n",
    "means = {\n",
    "    'r1':round(df2.loc[df2['r1'] == 1,'finalgrade'].mean(),2),\n",
    "    'r15':round(df2.loc[df2['r15'] == 1,'finalgrade'].mean(),2),\n",
    "    'r2':round(df2.loc[df2['r2'] == 1,'finalgrade'].mean(),2),\n",
    "    'r25':round(df2.loc[df2['r25'] == 1,'finalgrade'].mean(),2),\n",
    "    'r3':round(df2.loc[df2['r3'] == 1,'finalgrade'].mean(),2),\n",
    "    'r35':round(df2.loc[df2['r35'] == 1,'finalgrade'].mean(),2),\n",
    "    'r4':round(df2.loc[df2['r4'] == 1,'finalgrade'].mean(),2),\n",
    "    'r45':round(df2.loc[df2['r45'] == 1,'finalgrade'].mean(),2),\n",
    "    'r5':round(df2.loc[df2['r5'] == 1,'finalgrade'].mean(),2),\n",
    "}\n",
    "print(\"Final grade by weekly alcohol consumption rating: \")\n",
    "print(means)\n",
    "\n",
    "means2 = {\n",
    "    'lower': round((means['r1']+means['r15']+means['r2']+means['r25'])/4,2),\n",
    "    'higher': round((means['r3']+means['r35']+means['r4']+means['r45']+means['r5'])/5,2)\n",
    "}\n",
    "print(\"Final grade by weekly alcohol consumption range (lower - 1-2.5/5; higher - 3-5/5): \")\n",
    "print(means2)"
   ]
  },
  {
   "cell_type": "markdown",
   "id": "c5950b64",
   "metadata": {},
   "source": [
    "Unsurprisingly, the students who rated their weekly alcohol consumption as 1.0/5 had the highest mean final grade: 11.8\n",
    "\n",
    "However, as a bit of a surprise, the students with the lowest final grade: 9.9 were the ones that rated their weekly alcohol consumption as 3.0/5.\n",
    "\n",
    "Students who rated their weekly alcohol consumption lower (1-2.5/5) had a mean final grade of 11.53. On the other hand, the students who rated their weekly alcohol consumption higher (3-5/5) had a mean final grade of 10.25. That is a difference of 1.28, which is not as high as we thought."
   ]
  },
  {
   "cell_type": "markdown",
   "id": "db571e50",
   "metadata": {},
   "source": [
    "##### Mean final grade for family relationships rating"
   ]
  },
  {
   "cell_type": "code",
   "execution_count": 17,
   "id": "ef956c95",
   "metadata": {
    "scrolled": true
   },
   "outputs": [
    {
     "name": "stdout",
     "output_type": "stream",
     "text": [
      "Final grade by family relationships rating: \n",
      "{'r1': 10.63, 'r2': 10.49, 'r3': 10.97, 'r4': 11.59, 'r5': 11.34}\n"
     ]
    }
   ],
   "source": [
    "df3 = df.copy()\n",
    "df3 = pd.concat([df.drop('famrel', axis=1), pd.get_dummies(df['famrel'])], axis=1)\n",
    "df3 = df3.drop(columns=['weeklyAlcohol','absences','famsup','paid'], axis=1)\n",
    "df3 = df3.rename(columns = {1: 'r1',\n",
    "                           2: 'r2',\n",
    "                           3: 'r3',\n",
    "                           4: 'r4',\n",
    "                           5: 'r5'\n",
    "                           })\n",
    "means = {\n",
    "    'r1':round(df3.loc[df3['r1'] == 1,'finalgrade'].mean(),2),\n",
    "    'r2':round(df3.loc[df3['r2'] == 1,'finalgrade'].mean(),2),\n",
    "    'r3':round(df3.loc[df3['r3'] == 1,'finalgrade'].mean(),2),\n",
    "    'r4':round(df3.loc[df3['r4'] == 1,'finalgrade'].mean(),2),\n",
    "    'r5':round(df3.loc[df3['r5'] == 1,'finalgrade'].mean(),2),\n",
    "}\n",
    "print(\"Final grade by family relationships rating: \")\n",
    "means\n",
    "\n",
    "means2 = {\n",
    "    'lower': round((means['r1']+means['r2'])/2,2),\n",
    "    'higher': round((means['r3']+means['r4']+means['r5'])/3,2)\n",
    "}\n",
    "means2\n",
    "print(means)"
   ]
  },
  {
   "cell_type": "markdown",
   "id": "d153888c",
   "metadata": {},
   "source": [
    "There is a correlation between family relationship rating and final grade. Those who had a lower family relationships rating of 1-2/5 had a mean final grade of 10.56. Those who had a higher family relationships rating of 4-5/5 had a mean final grade of 11.47."
   ]
  },
  {
   "cell_type": "markdown",
   "id": "662c6961",
   "metadata": {},
   "source": [
    "##### Mean final grade for students who had financial support from family and who did not have financial support from family"
   ]
  },
  {
   "cell_type": "code",
   "execution_count": 18,
   "id": "73477918",
   "metadata": {
    "scrolled": true
   },
   "outputs": [
    {
     "name": "stdout",
     "output_type": "stream",
     "text": [
      "Mean grade with financial support from family:  11.38\n",
      "Mean grade without financial support from family:  11.28\n"
     ]
    }
   ],
   "source": [
    "df4 = df.loc[df['famsup'] == 1,'finalgrade']\n",
    "famsup_mean = df4.mean()\n",
    "df5 = df.loc[df['famsup'] == 0,'finalgrade']\n",
    "no_famsup_mean = df5.mean()\n",
    "print('Mean grade with financial support from family: ', round(famsup_mean,2))\n",
    "print('Mean grade without financial support from family: ', round(no_famsup_mean,2))"
   ]
  },
  {
   "cell_type": "markdown",
   "id": "7c2bbf51",
   "metadata": {},
   "source": [
    "##### Mean final grade for students took paid extra classes and who did not"
   ]
  },
  {
   "cell_type": "code",
   "execution_count": 19,
   "id": "4e0d0d16",
   "metadata": {},
   "outputs": [
    {
     "name": "stdout",
     "output_type": "stream",
     "text": [
      "Mean grade with paid extra classes:  10.97\n",
      "Mean grade without paid extra classes:  11.44\n"
     ]
    }
   ],
   "source": [
    "df6 = df.loc[df['paid'] == 1,'finalgrade']\n",
    "famsup_mean = df6.mean()\n",
    "df7 = df.loc[df['paid'] == 0,'finalgrade']\n",
    "no_famsup_mean = df7.mean()\n",
    "print('Mean grade with paid extra classes: ', round(famsup_mean,2))\n",
    "print('Mean grade without paid extra classes: ', round(no_famsup_mean,2))"
   ]
  },
  {
   "cell_type": "code",
   "execution_count": null,
   "id": "e997df84",
   "metadata": {},
   "outputs": [],
   "source": []
  },
  {
   "cell_type": "code",
   "execution_count": null,
   "id": "f9fe5b8d",
   "metadata": {},
   "outputs": [],
   "source": []
  }
 ],
 "metadata": {
  "kernelspec": {
   "display_name": "Python 3",
   "language": "python",
   "name": "python3"
  },
  "language_info": {
   "codemirror_mode": {
    "name": "ipython",
    "version": 3
   },
   "file_extension": ".py",
   "mimetype": "text/x-python",
   "name": "python",
   "nbconvert_exporter": "python",
   "pygments_lexer": "ipython3",
   "version": "3.8.8"
  }
 },
 "nbformat": 4,
 "nbformat_minor": 5
}
